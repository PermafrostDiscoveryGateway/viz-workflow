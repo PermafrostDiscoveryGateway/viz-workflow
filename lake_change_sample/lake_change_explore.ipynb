{
 "cells": [
  {
   "cell_type": "markdown",
   "metadata": {},
   "source": [
    "# Lake Change Dataset Exploration\n",
    "\n",
    "Lake change dataset for PDG provided by Ingmar Nitze\n",
    "- processing of lake datasets for the entire Arctic (60-80°) except Greenland and Europe (west of Finland)\n",
    "- data in Google drive: https://drive.google.com/drive/folders/1JxSBRs2nikB_eYxtwEatZ06bhusAN5nL\n",
    "- split into subsets of 10 UTM zones (1-10, 11-20) but have not yet processed 21-34\n",
    "- raw output, without filtering for sea and rivers (Ingmar will work on this, might be a few more weeks)\n",
    "- next version might include more sites further south in Canada\n",
    "- this data will not be included at NNA in mid-Nov 2022\n",
    "\n",
    "### Questions\n",
    "- was this dataset processed by MAPLE? If so, does that mean it underwent the surface water mask that was applied by MAPLE in processing the IWP dataset?\n",
    "- follow up question: Do all dataset layers for PDG go through MAPLE? Or is this yet to be determined?"
   ]
  },
  {
   "cell_type": "code",
   "execution_count": 1,
   "metadata": {},
   "outputs": [],
   "source": [
    "import matplotlib.pyplot as plt\n",
    "import geopandas as gpd\n",
    "import numpy as np"
   ]
  },
  {
   "cell_type": "code",
   "execution_count": null,
   "metadata": {},
   "outputs": [],
   "source": [
    "# pull in data from Google Drive"
   ]
  }
 ],
 "metadata": {
  "kernelspec": {
   "display_name": "Python 3.10.6 ('pdgviz')",
   "language": "python",
   "name": "python3"
  },
  "language_info": {
   "codemirror_mode": {
    "name": "ipython",
    "version": 3
   },
   "file_extension": ".py",
   "mimetype": "text/x-python",
   "name": "python",
   "nbconvert_exporter": "python",
   "pygments_lexer": "ipython3",
   "version": "3.10.6"
  },
  "orig_nbformat": 4,
  "vscode": {
   "interpreter": {
    "hash": "b54da58c51b30b82a7fc0059a0ef455812aa5d7a05176ea08a9c6d431b69c979"
   }
  }
 },
 "nbformat": 4,
 "nbformat_minor": 2
}
