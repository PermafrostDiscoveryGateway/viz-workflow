{
 "cells": [
  {
   "attachments": {},
   "cell_type": "markdown",
   "metadata": {},
   "source": [
    "## Integrate retry into raster package and see if more files are processed overall\n",
    "\n",
    "Environment: `rasterRetry`\n",
    "\n",
    "packages:\n",
    "```\n",
    "Package            Version    Editable project location\n",
    "------------------ ---------- -------------------------------\n",
    "affine             2.3.1\n",
    "asttokens          2.0.5\n",
    "attrs              22.1.0\n",
    "backcall           0.2.0\n",
    "bcrypt             4.0.1\n",
    "certifi            2022.9.24\n",
    "cffi               1.15.1\n",
    "charset-normalizer 2.1.1\n",
    "click              8.1.3\n",
    "click-plugins      1.1.1\n",
    "cligj              0.7.2\n",
    "coloraide          0.18.1\n",
    "colormaps          0.3\n",
    "contourpy          1.0.6\n",
    "cryptography       38.0.4\n",
    "cycler             0.11.0\n",
    "debugpy            1.5.1\n",
    "decorator          5.1.1\n",
    "dill               0.3.6\n",
    "entrypoints        0.4\n",
    "executing          0.8.3\n",
    "filelock           3.8.2\n",
    "Fiona              1.8.22\n",
    "fonttools          4.38.0\n",
    "geopandas          0.12.2\n",
    "globus-sdk         3.15.1\n",
    "idna               3.4\n",
    "ipykernel          6.15.2\n",
    "ipython            8.7.0\n",
    "jedi               0.18.1\n",
    "jupyter_client     7.4.7\n",
    "jupyter_core       4.11.2\n",
    "kiwisolver         1.4.4\n",
    "matplotlib         3.6.2\n",
    "matplotlib-inline  0.1.6\n",
    "morecantile        3.2.5\n",
    "munch              2.5.0\n",
    "nest-asyncio       1.5.5\n",
    "numpy              1.24.0\n",
    "packaging          22.0\n",
    "pandas             1.5.2\n",
    "paramiko           2.12.0\n",
    "parsl              2022.12.19\n",
    "parso              0.8.3\n",
    "pdgraster          0.1.0      /home/jcohen/viz-raster-w-retry\n",
    "pdgstaging         0.1.0\n",
    "pexpect            4.8.0\n",
    "pickleshare        0.7.5\n",
    "Pillow             9.3.0\n",
    "pip                22.3.1\n",
    "prompt-toolkit     3.0.20\n",
    "psutil             5.9.0\n",
    "ptyprocess         0.7.0\n",
    "pure-eval          0.2.2\n",
    "pycparser          2.21\n",
    "pydantic           1.10.2\n",
    "Pygments           2.11.2\n",
    "PyJWT              2.6.0\n",
    "PyNaCl             1.5.0\n",
    "pyparsing          3.0.9\n",
    "pyproj             3.4.1\n",
    "python-dateutil    2.8.2\n",
    "pytz               2022.7\n",
    "pyzmq              23.2.0\n",
    "rasterio           1.3.4\n",
    "requests           2.28.1\n",
    "Rtree              0.9.7\n",
    "setproctitle       1.3.2\n",
    "setuptools         65.5.0\n",
    "shapely            2.0.0\n",
    "six                1.16.0\n",
    "snuggs             1.4.7\n",
    "stack-data         0.2.0\n",
    "tblib              1.7.0\n",
    "tornado            6.2\n",
    "traitlets          5.7.1\n",
    "typeguard          2.13.3\n",
    "typing_extensions  4.4.0\n",
    "urllib3            1.26.13\n",
    "wcwidth            0.2.5\n",
    "wheel              0.37.1\n",
    "```"
   ]
  },
  {
   "attachments": {},
   "cell_type": "markdown",
   "metadata": {},
   "source": [
    "First test out what the modified code is doing by creating an MRE.\n",
    "\n",
    "Code with retry:\n",
    "\n",
    "```python\n",
    "    def rasterize_vector(self, path):\n",
    "        \"\"\"\n",
    "            Given a path to an output file from the viz-staging step, create a\n",
    "            GeoTIFF and save it to the configured dir_geotiff directory. If the\n",
    "            output geotiff already exists, it will be overwritten.\n",
    "            During this process, the min and max values (and other summary\n",
    "            stats) of the data arrays that comprise the GeoTIFFs for each band\n",
    "            will be tracked.\n",
    "            Parameters\n",
    "            ----------\n",
    "            path : str\n",
    "                Path to the staged vector file to rasterize.\n",
    "            Returns\n",
    "            -------\n",
    "            morecantile.Tile or None\n",
    "                The tile that was rasterized or None if there was an error.\n",
    "        \"\"\"\n",
    "\n",
    "        # if error occurs, retries\n",
    "        for attempt in range(2):\n",
    "            try:\n",
    "\n",
    "                # Get information about the tile from the path\n",
    "                tile = self.tiles.tile_from_path(path)\n",
    "                bounds = self.tiles.get_bounding_box(tile)\n",
    "                out_path = self.tiles.path_from_tile(tile, 'geotiff')\n",
    "\n",
    "                # Track and log the event\n",
    "                id = self.__start_tracking('geotiffs_from_vectors')\n",
    "                logger.info(f'Rasterizing {path} for tile {tile} to {out_path}.')\n",
    "\n",
    "                # Check if deduplication should be performed first\n",
    "                gdf = gpd.read_file(path)\n",
    "                dedup_here = self.config.deduplicate_at('raster')\n",
    "                dedup_method = self.config.get_deduplication_method()\n",
    "                if dedup_here and (dedup_method is not None):\n",
    "                    dedup_config = self.config.get_deduplication_config(gdf)\n",
    "                    dedup = dedup_method(gdf, **dedup_config)\n",
    "                    gdf = dedup['keep']\n",
    "\n",
    "                # Get properties to pass to the rasterizer\n",
    "                raster_opts = self.config.get_raster_config()\n",
    "\n",
    "                # Rasterize\n",
    "                raster = Raster.from_vector(\n",
    "                    vector=gdf, bounds=bounds, **raster_opts)\n",
    "                raster.write(out_path)\n",
    "\n",
    "                # Track and log the end of the event\n",
    "                message = f'Rasterization for tile {tile} complete.'\n",
    "                self.__end_tracking(id, raster=raster, tile=tile, message=message)\n",
    "                logger.info(\n",
    "                    f'Complete rasterization of tile {tile} to {out_path}.')\n",
    "\n",
    "                return tile\n",
    "\n",
    "            except Exception as e:\n",
    "                logger.info(f'Error rasterizing {path} for tile {tile} so trying again.')\n",
    "            \n",
    "            else:\n",
    "                break\n",
    "        \n",
    "        else:\n",
    "            message = f'Error rasterizing {path} for tile {tile}, ran out of retries.'\n",
    "            self.__end_tracking(id, tile=tile, error=e, message=message)\n",
    "            return None\n",
    "```"
   ]
  },
  {
   "cell_type": "code",
   "execution_count": 10,
   "metadata": {},
   "outputs": [],
   "source": [
    "# create example function\n",
    "\n",
    "def test_func(x, y):\n",
    "    for attempt in range(2):\n",
    "        try:\n",
    "            z = x / y\n",
    "            print(f'Success: {x} / {y} = {z}')\n",
    "            return z\n",
    "        except Exception as e:\n",
    "            print(f'Error dividing {x} by {y} so trying again.')\n",
    "        else:\n",
    "            break\n",
    "\n",
    "    else:\n",
    "         print(f'Error dividing {x} by {y}, ran out of retries.')\n",
    "         return None\n",
    "    "
   ]
  },
  {
   "cell_type": "code",
   "execution_count": 11,
   "metadata": {},
   "outputs": [
    {
     "name": "stdout",
     "output_type": "stream",
     "text": [
      "Success: 9 / 3 = 3.0\n"
     ]
    },
    {
     "data": {
      "text/plain": [
       "3.0"
      ]
     },
     "execution_count": 11,
     "metadata": {},
     "output_type": "execute_result"
    }
   ],
   "source": [
    "# test function with expected input types\n",
    "test_func(x = 9, y = 3)"
   ]
  },
  {
   "cell_type": "code",
   "execution_count": 12,
   "metadata": {},
   "outputs": [
    {
     "name": "stdout",
     "output_type": "stream",
     "text": [
      "Error dividing elephant by cat so trying again.\n",
      "Error dividing elephant by cat so trying again.\n",
      "Error dividing elephant by cat, ran out of retries.\n"
     ]
    }
   ],
   "source": [
    "# test function with erronous inputs\n",
    "test_func(x = 'elephant', y = 'cat')"
   ]
  },
  {
   "cell_type": "code",
   "execution_count": null,
   "metadata": {},
   "outputs": [],
   "source": []
  }
 ],
 "metadata": {
  "kernelspec": {
   "display_name": "rasterRetry",
   "language": "python",
   "name": "python3"
  },
  "language_info": {
   "codemirror_mode": {
    "name": "ipython",
    "version": 3
   },
   "file_extension": ".py",
   "mimetype": "text/x-python",
   "name": "python",
   "nbconvert_exporter": "python",
   "pygments_lexer": "ipython3",
   "version": "3.9.15 (main, Nov 24 2022, 14:31:59) \n[GCC 11.2.0]"
  },
  "orig_nbformat": 4,
  "vscode": {
   "interpreter": {
    "hash": "256712595b4c1bbd40acbe7381d93cb5183da87ddcd8043e38109952e9a5fc46"
   }
  }
 },
 "nbformat": 4,
 "nbformat_minor": 2
}
